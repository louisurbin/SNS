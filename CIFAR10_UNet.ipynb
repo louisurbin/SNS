{
  "cells": [
    {
      "cell_type": "code",
      "execution_count": 2,
      "id": "133ff02f",
      "metadata": {
        "id": "133ff02f"
      },
      "outputs": [],
      "source": [
        "import torch\n",
        "from torch import nn, Tensor\n",
        "from torchvision import datasets, transforms\n",
        "from torch.utils.data import DataLoader, Subset\n",
        "import matplotlib.pyplot as plt\n",
        "import torch.nn.functional as F"
      ]
    },
    {
      "cell_type": "markdown",
      "id": "f70b0480",
      "metadata": {
        "id": "f70b0480"
      },
      "source": [
        "Configuration"
      ]
    },
    {
      "cell_type": "code",
      "execution_count": 3,
      "id": "4d71cef4",
      "metadata": {
        "id": "4d71cef4"
      },
      "outputs": [],
      "source": [
        "batch_size = 64\n",
        "transform = transforms.Compose([\n",
        "    transforms.ToTensor(),\n",
        "])\n",
        "cifar10 = datasets.CIFAR10(root='./data', train=True, download=True, transform=transform)\n",
        "cifar10_cat = Subset(cifar10, [i for i in range(len(cifar10)) if cifar10.targets[i] == 3]) # 3 is the label for cat\n",
        "loader = DataLoader(cifar10_cat, batch_size=batch_size, shuffle=True)"
      ]
    },
    {
      "cell_type": "markdown",
      "id": "a741abbc",
      "metadata": {
        "id": "a741abbc"
      },
      "source": [
        "Flow Model"
      ]
    },
    {
      "cell_type": "code",
      "execution_count": 4,
      "id": "33ea3d0c",
      "metadata": {
        "id": "33ea3d0c"
      },
      "outputs": [],
      "source": [
        "class DoubleConv(nn.Module):\n",
        "    def __init__(self, in_ch, out_ch):\n",
        "        super().__init__()\n",
        "        self.block = nn.Sequential(\n",
        "            nn.Conv2d(in_ch, out_ch, kernel_size=3, padding=1),\n",
        "            nn.GroupNorm(4, out_ch),\n",
        "            nn.SiLU(),\n",
        "            nn.Conv2d(out_ch, out_ch, kernel_size=3, padding=1),\n",
        "            nn.GroupNorm(4, out_ch),\n",
        "            nn.SiLU()\n",
        "        )\n",
        "\n",
        "    def forward(self, x):\n",
        "        return self.block(x)\n",
        "\n",
        "class Down(nn.Module):\n",
        "    def __init__(self, in_ch, out_ch):\n",
        "        super().__init__()\n",
        "        self.pool = nn.MaxPool2d(2)\n",
        "        self.conv = DoubleConv(in_ch, out_ch)\n",
        "\n",
        "    def forward(self, x):\n",
        "        return self.conv(self.pool(x))\n",
        "\n",
        "class Up(nn.Module):\n",
        "    def __init__(self, in_ch, out_ch):\n",
        "        super().__init__()\n",
        "        self.up = nn.ConvTranspose2d(in_ch, in_ch // 2, kernel_size=2, stride=2)\n",
        "        self.conv = DoubleConv(in_ch, out_ch)\n",
        "\n",
        "    def forward(self, x1, x2):\n",
        "        x1 = self.up(x1)\n",
        "        diffY = x2.size()[2] - x1.size()[2]\n",
        "        diffX = x2.size()[3] - x1.size()[3]\n",
        "        x1 = F.pad(x1, [diffX // 2, diffX - diffX // 2,\n",
        "                        diffY // 2, diffY - diffY // 2])\n",
        "        x = torch.cat([x2, x1], dim=1)\n",
        "        return self.conv(x)\n",
        "\n",
        "class UNetFlow(nn.Module):\n",
        "    def __init__(self):\n",
        "        super().__init__()\n",
        "        self.t_proj = nn.Linear(1, 32 * 32)\n",
        "\n",
        "        self.inc = DoubleConv(4, 32)      # 3 canaux image + 1 canal temps\n",
        "        self.down1 = Down(32, 64)\n",
        "        self.down2 = Down(64, 128)\n",
        "        self.up1 = Up(128, 64)\n",
        "        self.up2 = Up(64, 32)\n",
        "        self.outc = nn.Conv2d(32, 3, kernel_size=1)  # 3 canaux image\n",
        "\n",
        "    def forward(self, x_t: Tensor, t: Tensor) -> Tensor:\n",
        "        B = x_t.size(0)\n",
        "        t_img = self.t_proj(t.view(B, 1)).view(B, 1, 32, 32)\n",
        "        x = torch.cat([x_t, t_img], dim=1)\n",
        "\n",
        "        x1 = self.inc(x)\n",
        "        x2 = self.down1(x1)\n",
        "        x3 = self.down2(x2)\n",
        "        x = self.up1(x3, x2)\n",
        "        x = self.up2(x, x1)\n",
        "        return self.outc(x)\n",
        "\n",
        "    def step(self, x_t, t_start, t_end):\n",
        "        return x_t + (t_end - t_start) * self(\n",
        "            x_t + self(x_t, t_start) * (t_end - t_start) / 2,\n",
        "            (t_start + t_end) / 2\n",
        "        )\n"
      ]
    },
    {
      "cell_type": "markdown",
      "id": "2c0bb4fc",
      "metadata": {
        "id": "2c0bb4fc"
      },
      "source": [
        "Training"
      ]
    },
    {
      "cell_type": "code",
      "execution_count": 21,
      "id": "7874ce8e",
      "metadata": {
        "colab": {
          "base_uri": "https://localhost:8080/"
        },
        "id": "7874ce8e",
        "outputId": "aa71014b-0508-4f32-90f8-cab5255add0d"
      },
      "outputs": [
        {
          "name": "stdout",
          "output_type": "stream",
          "text": [
            "Epoch 1, Loss: 0.0985\n",
            "Epoch 2, Loss: 0.1033\n",
            "Epoch 3, Loss: 0.0924\n",
            "Epoch 4, Loss: 0.0850\n",
            "Epoch 5, Loss: 0.0987\n",
            "Epoch 6, Loss: 0.0981\n",
            "Epoch 7, Loss: 0.0897\n",
            "Epoch 8, Loss: 0.0929\n",
            "Epoch 9, Loss: 0.0940\n",
            "Epoch 10, Loss: 0.0864\n",
            "Epoch 11, Loss: 0.0874\n",
            "Epoch 12, Loss: 0.0901\n",
            "Epoch 13, Loss: 0.0958\n",
            "Epoch 14, Loss: 0.0888\n",
            "Epoch 15, Loss: 0.0956\n",
            "Epoch 16, Loss: 0.0897\n",
            "Epoch 17, Loss: 0.0798\n",
            "Epoch 18, Loss: 0.1134\n",
            "Epoch 19, Loss: 0.0975\n",
            "Epoch 20, Loss: 0.0852\n",
            "Epoch 21, Loss: 0.0842\n",
            "Epoch 22, Loss: 0.0818\n",
            "Epoch 23, Loss: 0.0852\n",
            "Epoch 24, Loss: 0.0884\n",
            "Epoch 25, Loss: 0.0806\n",
            "Epoch 26, Loss: 0.0825\n",
            "Epoch 27, Loss: 0.0771\n",
            "Epoch 28, Loss: 0.0885\n",
            "Epoch 29, Loss: 0.0790\n",
            "Epoch 30, Loss: 0.0804\n",
            "Epoch 31, Loss: 0.0846\n",
            "Epoch 32, Loss: 0.0818\n",
            "Epoch 33, Loss: 0.0813\n",
            "Epoch 34, Loss: 0.0952\n",
            "Epoch 35, Loss: 0.0799\n",
            "Epoch 36, Loss: 0.0894\n",
            "Epoch 37, Loss: 0.0808\n",
            "Epoch 38, Loss: 0.0945\n",
            "Epoch 39, Loss: 0.0875\n",
            "Epoch 40, Loss: 0.0881\n",
            "Epoch 41, Loss: 0.0898\n",
            "Epoch 42, Loss: 0.0838\n",
            "Epoch 43, Loss: 0.0970\n",
            "Epoch 44, Loss: 0.0822\n",
            "Epoch 45, Loss: 0.0877\n",
            "Epoch 46, Loss: 0.0892\n",
            "Epoch 47, Loss: 0.0841\n",
            "Epoch 48, Loss: 0.0924\n",
            "Epoch 49, Loss: 0.0741\n",
            "Epoch 50, Loss: 0.0880\n"
          ]
        }
      ],
      "source": [
        "device = torch.device(\"cuda\" if torch.cuda.is_available() else \"cpu\")\n",
        "flow = UNetFlow().to(device)\n",
        "optimizer = torch.optim.AdamW(flow.parameters(), lr=1e-3)\n",
        "loss_fn = nn.MSELoss()\n",
        "\n",
        "for epoch in range(50):\n",
        "    for x_1, _ in loader:\n",
        "        x_1 = x_1.to(device)\n",
        "        x_0 = torch.randn_like(x_1)  # Noise source\n",
        "        t = torch.rand(x_1.size(0), 1).to(device)  # Random time\n",
        "        x_t = (1 - t.view(-1, 1, 1, 1)) * x_0 + t.view(-1, 1, 1, 1) * x_1\n",
        "        dx_t = x_1 - x_0\n",
        "\n",
        "        optimizer.zero_grad()\n",
        "        loss = loss_fn(flow(x_t, t), dx_t)\n",
        "        loss.backward()\n",
        "        optimizer.step()\n",
        "\n",
        "    print(f\"Epoch {epoch+1}, Loss: {loss.item():.4f}\")"
      ]
    },
    {
      "cell_type": "markdown",
      "id": "e55cbd08",
      "metadata": {
        "id": "e55cbd08"
      },
      "source": [
        "Sampling and Visualization"
      ]
    },
    {
      "cell_type": "code",
      "execution_count": null,
      "id": "0e5c5f33",
      "metadata": {
        "colab": {
          "base_uri": "https://localhost:8080/",
          "height": 217
        },
        "id": "0e5c5f33",
        "outputId": "d8c6d34a-cdcb-4652-a95b-8671ea0d2881"
      },
      "outputs": [
        {
          "data": {
            "image/png": "[encoded data removed]",
            "text/plain": [
              "<Figure size 1800x200 with 9 Axes>"
            ]
          },
          "metadata": {},
          "output_type": "display_data"
        }
      ],
      "source": [
        "x = torch.randn(1, 3, 32, 32).to(device)  # Reshape to (batch_size, channels, height, width)\n",
        "n_steps = 8\n",
        "time_steps = torch.linspace(0, 1.0, n_steps + 1).to(device)\n",
        "\n",
        "trajectory = [x.clone()]\n",
        "with torch.no_grad():\n",
        "    for i in range(n_steps):\n",
        "        x = flow.step(x, time_steps[i], time_steps[i + 1])\n",
        "        trajectory.append(x.clone())\n",
        "\n",
        "fig, axes = plt.subplots(1, n_steps + 1, figsize=(2*(n_steps+1), 2))\n",
        "for i, x_i in enumerate(trajectory):\n",
        "    img = x_i.squeeze().cpu().clamp(0, 1).permute(1,2,0).numpy()  # Remove channel dimension and reshape\n",
        "    axes[i].imshow(img)\n",
        "    axes[i].set_title(f\"t = {time_steps[i]:.2f}\")\n",
        "    axes[i].axis('off')\n",
        "\n",
        "plt.suptitle(\"Transformation from Noise to a CIFAR-10 Cat\")\n",
        "plt.tight_layout()\n",
        "plt.show()"
      ]
    }
  ],
  "metadata": {
    "accelerator": "GPU",
    "colab": {
      "gpuType": "T4",
      "provenance": []
    },
    "kernelspec": {
      "display_name": "Python 3",
      "name": "python3"
    },
    "language_info": {
      "codemirror_mode": {
        "name": "ipython",
        "version": 3
      },
      "file_extension": ".py",
      "mimetype": "text/x-python",
      "name": "python",
      "nbconvert_exporter": "python",
      "pygments_lexer": "ipython3",
      "version": "3.12.10"
    }
  },
  "nbformat": 4,
  "nbformat_minor": 5
}
